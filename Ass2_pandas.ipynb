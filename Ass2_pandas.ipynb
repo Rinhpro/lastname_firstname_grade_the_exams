{
 "cells": [
  {
   "cell_type": "code",
   "execution_count": 16,
   "id": "3d27b7e4-05fc-4ab6-b742-b746d8a88e2b",
   "metadata": {},
   "outputs": [
    {
     "name": "stdin",
     "output_type": "stream",
     "text": [
      "Enter file name:  class7\n"
     ]
    },
    {
     "name": "stdout",
     "output_type": "stream",
     "text": [
      "Successfully opened class7\n",
      "**** ANALYZING ****\n",
      "Invalid line of data: does not contain exactly 26 values:\n",
      "N00001966,B,A,,A,C,B,D,A,C,C,D,B,D,B,A,C,B,,A,C,D,A,A,\n",
      "N00001974,B,D,D,D,C,A,D,A,A,C,B,B,C,B,A,C,B,D,D,D,A,A,B,D,D,A,A\n",
      "N00002023,B,A,D,D,,B,D,A,D,,D,B,A,A,A,C,B,D,A,C,,C\n",
      "N00002034,B,A,D,D,C,D,D,B,,C,D,A,A,B,A,C,B,C,A,C,,A,B,D,D,B\n",
      "Invalid line of data: N# is invalid\n",
      "N0000194,B,A,D,D,C,B,D,A,C,C,D,B,A,B,A,C,B,D,C,C,A,A,B,B,D\n",
      "N0000198O,B,A,B,D,C,B,D,B,C,C,D,B,C,B,A,C,B,,A,C,A,B,B,D,D\n",
      "F00000000,B,,A,D,,B,D,A,C,C,D,B,C,A,A,C,B,D,A,C,A,A,A,D,A\n",
      "**** REPORT ****\n",
      "Total lines of data: 200\n",
      "Total valid lines of data: 193\n",
      "Total invalid lines of data: 7\n",
      "Total student of high scores: 59\n",
      "Mean (average) score: 74.84974093264249\n",
      "Highest score: 100.0\n",
      "Lowest score: 47.0\n",
      "Range of scores: score    53.0\n",
      "dtype: float64\n",
      "Median score: 75.0\n",
      "Question that most people skip: [4]-28-0.15\n",
      "Question that most people wrong: [7]-32-0.17\n",
      "File class7_final.txt had been written\n"
     ]
    }
   ],
   "source": [
    "import pandas as pd\n",
    "import re\n",
    "def main():\n",
    "    #open file\n",
    "    file_name = input('Enter file name: ')\n",
    "    try:\n",
    "        df = pd.read_csv(file_name+'.txt', header=None, sep =' ')\n",
    "        print(f'Successfully opened {file_name}')\n",
    "    except:\n",
    "        print('File cannot be found.')\n",
    "        return\n",
    "    df_error1 = df[df[0].apply(lambda x: len(x.split(',')) != 26)]\n",
    "    def error2(x):\n",
    "        return len(re.findall('N[0-9]{8,8}', x)) == 0\n",
    "    df_error2 = df[df[0].apply(error2)]\n",
    "    df_valid = df.drop(df_error1.index.append(df_error2.index))\n",
    "    #Analyzing\n",
    "    print('**** ANALYZING ****')\n",
    "    if len(df_error1) + len(df_error2) == 0:\n",
    "        print('No errors found!')\n",
    "    else: \n",
    "        print('Invalid line of data: does not contain exactly 26 values:')\n",
    "        for i in df_error1.index:\n",
    "            print(df_error1.loc[i,0])\n",
    "        print('Invalid line of data: N# is invalid')\n",
    "        for i in df_error2.index:\n",
    "            print(df_error2.loc[i,0])\n",
    "    #Report\n",
    "    print('**** REPORT ****')\n",
    "    print(f'Total lines of data: {len(df)}')\n",
    "    print(f'Total valid lines of data: {len(df_valid)}')\n",
    "    print(f'Total invalid lines of data: {len(df_error1) + len(df_error2)}')\n",
    "    df1 = df_valid[0].str.split(',', expand=True, n=-1)\n",
    "    df1.rename(columns = {0:'id'}, inplace=True)\n",
    "    df1 = df1.set_index('id')\n",
    "    df1.head()\n",
    "    answer_key = \"B,A,D,D,C,B,D,A,C,C,D,B,A,B,A,C,B,D,A,C,A,A,B,D,D\"\n",
    "    key = answer_key.split(',')\n",
    "    for i in df1.index:\n",
    "        for y in df1.columns:\n",
    "            if df1.loc[i,y] == '': df1.loc[i,y] = 0\n",
    "            elif df1.loc[i,y] == key[y-1]: df1.loc[i,y] = 4\n",
    "            elif df1.loc[i,y] != key[y-1]: df1.loc[i,y] = -1\n",
    "    df_skip = df1.apply(lambda x: x==0, axis=1).sum()\n",
    "    df_wrong = df1.apply(lambda x: x==-1, axis=1).sum()\n",
    "    df2 = pd.DataFrame()\n",
    "    df2['score'] = df1.sum(axis=1)\n",
    "    print('Total student of high scores: {}'.format(len(df2[df2['score']>80])))\n",
    "    print('Mean (average) score: {}'.format(df2['score'].mean()))\n",
    "    print('Highest score: {}'.format(df2['score'].max()))\n",
    "    print('Lowest score: {}'.format(df2['score'].min()))\n",
    "    print('Range of scores: {}'.format(df2['score'].max()-df2.min()))\n",
    "    print('Median score: {}'.format(df2['score'].median()))\n",
    "    print(f'Question that most people skip: {list(df_skip[df_skip == df_skip.max()].index)}-{df_skip.max()}-{round(df_skip.max()/len(df_valid),2)}')\n",
    "    print(f'Question that most people wrong: {list(df_wrong[df_wrong == df_wrong.max()].index)}-{df_wrong.max()}-{round(df_wrong.max()/len(df_valid),2)}')\n",
    "    #write file to csv\n",
    "    df2.to_csv(file_name+'_grades.txt')\n",
    "    print('File {} had been written'.format(file_name+'_final.txt'))\n",
    "if __name__ == '__main__':\n",
    "    main()"
   ]
  },
  {
   "cell_type": "code",
   "execution_count": null,
   "id": "f40fbf3a-257f-402f-8434-db06ea5adebc",
   "metadata": {},
   "outputs": [],
   "source": []
  }
 ],
 "metadata": {
  "kernelspec": {
   "display_name": "Python 3 (ipykernel)",
   "language": "python",
   "name": "python3"
  },
  "language_info": {
   "codemirror_mode": {
    "name": "ipython",
    "version": 3
   },
   "file_extension": ".py",
   "mimetype": "text/x-python",
   "name": "python",
   "nbconvert_exporter": "python",
   "pygments_lexer": "ipython3",
   "version": "3.9.13"
  }
 },
 "nbformat": 4,
 "nbformat_minor": 5
}
